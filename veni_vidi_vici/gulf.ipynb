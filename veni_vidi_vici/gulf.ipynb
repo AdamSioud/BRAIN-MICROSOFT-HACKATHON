{
 "cells": [
  {
   "cell_type": "code",
   "execution_count": 4,
   "id": "cd647593-287a-48e0-8c1d-f7f27bae4b1b",
   "metadata": {},
   "outputs": [],
   "source": [
    "from pystac_client import Client\n",
    "from pystac.extensions.eo import EOExtension as eo\n",
    "import planetary_computer as pc\n",
    "\n",
    "# Search against the Planetary Computer STAC API\n",
    "catalog = Client.open(\n",
    "  \"https://planetarycomputer.microsoft.com/api/stac/v1\"\n",
    ")\n",
    "\n",
    "# Define your area of interest \n",
    "# Gulf of Mexico\n",
    "aoi = {\n",
    "  \"type\": \"Polygon\",\n",
    "  \"coordinates\": [\n",
    "    [\n",
    "      [-95.55929182495876, 24.972826325385128],\n",
    "      [-84.22837744734612, 24.972826325385128],\n",
    "      [-84.22837744734612, 31.774348789950807],\n",
    "      [-95.55929182495876, 31.774348789950807],\n",
    "      [-95.55929182495876, 24.972826325385128]\n",
    "    ]\n",
    "  ]\n",
    "}"
   ]
  },
  {
   "cell_type": "code",
   "execution_count": 5,
   "id": "c6ff755f-4f55-4c00-bfcf-c2a35106f92d",
   "metadata": {},
   "outputs": [],
   "source": [
    "time_of_interest = \"2000-01-01/2020-12-31\""
   ]
  },
  {
   "cell_type": "code",
   "execution_count": 8,
   "id": "38b67322-fd8d-41cb-a919-2af9710aa214",
   "metadata": {},
   "outputs": [
    {
     "name": "stdout",
     "output_type": "stream",
     "text": [
      "Returned 1275 Items\n"
     ]
    }
   ],
   "source": [
    "catalog = Client.open(\"https://planetarycomputer.microsoft.com/api/stac/v1\")\n",
    "\n",
    "search = catalog.search(\n",
    "    collections=[\"landsat-8-c2-l2\"],\n",
    "    intersects=aoi,\n",
    "    datetime=time_of_interest,\n",
    "    query={\"eo:cloud_cover\": {\"lt\": 5}}\n",
    "\n",
    ")\n",
    "\n",
    "# Check how many items were returned\n",
    "items = list(search.get_items())\n",
    "print(f\"Returned {len(items)} Items\")"
   ]
  },
  {
   "cell_type": "code",
   "execution_count": 9,
   "id": "58fe6773-d589-44af-9c2e-621284e59570",
   "metadata": {},
   "outputs": [],
   "source": [
    "#plotting the area "
   ]
  },
  {
   "cell_type": "code",
   "execution_count": 11,
   "id": "c486d551-5c00-4f8a-928a-f2edc04352c5",
   "metadata": {},
   "outputs": [],
   "source": [
    "from fastai.vision.all import *\n",
    "#We take the global water polygons, then filter out to keep only the coastal rim 50m iwards and 100m to sea.\n",
    "full_res_water = \"https://osmdata.openstreetmap.de/download/water-polygons-split-3857.zip\"\n",
    "low_res_water =  \"https://osmdata.openstreetmap.de/download/simplified-water-polygons-split-3857.zip\""
   ]
  },
  {
   "cell_type": "code",
   "execution_count": 12,
   "id": "5fecab2a-6c8d-48fb-9459-29733feab172",
   "metadata": {},
   "outputs": [],
   "source": [
    "path=untar_data(low_res_water)"
   ]
  },
  {
   "cell_type": "code",
   "execution_count": 15,
   "id": "3757ed43-4960-4e08-821c-b59536026cd2",
   "metadata": {},
   "outputs": [],
   "source": [
    "import geopandas as gpd\n",
    "df = gpd.read_file(path)"
   ]
  },
  {
   "cell_type": "code",
   "execution_count": 18,
   "id": "1a03c97c-a27e-439d-9a1b-a79f0d0b4c97",
   "metadata": {},
   "outputs": [
    {
     "data": {
      "image/svg+xml": [
       "<svg xmlns=\"http://www.w3.org/2000/svg\" xmlns:xlink=\"http://www.w3.org/1999/xlink\" width=\"100.0\" height=\"100.0\" viewBox=\"-96.01252840006327 24.519589750280623 12.237387527821667 7.707995614774688\" preserveAspectRatio=\"xMinYMin meet\"><g transform=\"matrix(1,0,0,-1,0,56.747175115335935)\"><path fill-rule=\"evenodd\" fill=\"#66cc99\" stroke=\"#555555\" stroke-width=\"0.24474775055643336\" opacity=\"0.6\" d=\"M -95.55929182495876,24.972826325385128 L -84.22837744734612,24.972826325385128 L -84.22837744734612,31.774348789950807 L -95.55929182495876,31.774348789950807 L -95.55929182495876,24.972826325385128 z\" /></g></svg>"
      ],
      "text/plain": [
       "<shapely.geometry.polygon.Polygon at 0x7ff561c08af0>"
      ]
     },
     "execution_count": 18,
     "metadata": {},
     "output_type": "execute_result"
    }
   ],
   "source": [
    "#clip small location\n",
    "from shapely.geometry import Polygon\n",
    "s =[Polygon( \n",
    "    [\n",
    "      [-95.55929182495876, 24.972826325385128],\n",
    "      [-84.22837744734612, 24.972826325385128],\n",
    "      [-84.22837744734612, 31.774348789950807],\n",
    "      [-95.55929182495876, 31.774348789950807],\n",
    "      [-95.55929182495876, 24.972826325385128]\n",
    "    \n",
    "  ]\n",
    ")]\n",
    "d = {'col1': ['BC'], 'geometry':s}\n",
    "small = gpd.GeoDataFrame(d, crs=\"EPSG:4326\")\n",
    "s[0]"
   ]
  },
  {
   "cell_type": "code",
   "execution_count": 19,
   "id": "8e7c655f-bd40-4a4f-9357-e133eb60b908",
   "metadata": {},
   "outputs": [
    {
     "data": {
      "text/plain": [
       "<AxesSubplot:>"
      ]
     },
     "execution_count": 19,
     "metadata": {},
     "output_type": "execute_result"
    },
    {
     "data": {
      "image/png": "[encoded data removed]",
      "text/plain": [
       "<Figure size 432x288 with 1 Axes>"
      ]
     },
     "metadata": {
      "needs_background": "light"
     },
     "output_type": "display_data"
    }
   ],
   "source": [
    "small= gpd.clip(df.to_crs('epsg:4326'),small).to_crs('epsg:3857')\n",
    "small.plot()"
   ]
  },
  {
   "cell_type": "code",
   "execution_count": null,
   "id": "d017d780-4a6e-46b4-b83a-06456c977865",
   "metadata": {},
   "outputs": [],
   "source": []
  }
 ],
 "metadata": {
  "kernelspec": {
   "display_name": "Python 3 (ipykernel)",
   "language": "python",
   "name": "python3"
  },
  "language_info": {
   "codemirror_mode": {
    "name": "ipython",
    "version": 3
   },
   "file_extension": ".py",
   "mimetype": "text/x-python",
   "name": "python",
   "nbconvert_exporter": "python",
   "pygments_lexer": "ipython3",
   "version": "3.8.12"
  }
 },
 "nbformat": 4,
 "nbformat_minor": 5
}
